{
 "cells": [
  {
   "cell_type": "code",
   "execution_count": 1,
   "id": "df0bd6f8-3ffc-468e-86ab-0e504693d2be",
   "metadata": {},
   "outputs": [],
   "source": [
    "from datetime import datetime\n",
    "from timezonefinder import TimezoneFinder\n",
    "from zoneinfo import ZoneInfo\n",
    "\n",
    "def get_birth_utc_offset_str(dt_obj, latitude, longitude):\n",
    "    tf = TimezoneFinder()\n",
    "    tz_name = tf.timezone_at(lat=latitude, lng=longitude)\n",
    "    if not tz_name:\n",
    "        raise ValueError(\"Не удалось определить часовой пояс для координат\")\n",
    "\n",
    "    dt_with_tz = dt_obj.replace(tzinfo=ZoneInfo(tz_name))\n",
    "    offset = dt_with_tz.utcoffset()\n",
    "    hours = int(offset.total_seconds() // 3600)\n",
    "    minutes = int((offset.total_seconds() % 3600) // 60)\n",
    "    return f\"{hours:+03d}:{abs(minutes):02d}\""
   ]
  },
  {
   "cell_type": "code",
   "execution_count": null,
   "id": "6bd8a3b7-35e8-4ef0-83fe-09adfbe77ca0",
   "metadata": {},
   "outputs": [],
   "source": [
    "tz_name = tf.timezone_at(lat=latitude, lng=longitude)"
   ]
  },
  {
   "cell_type": "code",
   "execution_count": 8,
   "id": "6b02533d-9281-4600-a00b-b7058d89b8bb",
   "metadata": {},
   "outputs": [
    {
     "name": "stdout",
     "output_type": "stream",
     "text": [
      "Europe/Bucharest\n"
     ]
    }
   ],
   "source": [
    "dt_obj = datetime(1985, 11, 2, 6, 0)\n",
    "latitude = 45.21\n",
    "longitude = 28.50\n",
    "tf = TimezoneFinder()\n",
    "tz_name = tf.timezone_at(lat=latitude, lng=longitude)\n",
    "print(tz_name)"
   ]
  },
  {
   "cell_type": "code",
   "execution_count": 1,
   "id": "afca998c-308c-4881-b558-af71f8faa74e",
   "metadata": {},
   "outputs": [
    {
     "name": "stdout",
     "output_type": "stream",
     "text": [
      "1985-11-02 00:00:00+02:00\n"
     ]
    }
   ],
   "source": [
    "import pytz\n",
    "from datetime import datetime\n",
    "\n",
    "# Получение информации о часовом поясе на определенную дату\n",
    "historic_date = pytz.timezone('Europe/Bucharest').localize(datetime(1985, 11, 2))\n",
    "print(historic_date)"
   ]
  }
 ],
 "metadata": {
  "kernelspec": {
   "display_name": "Python 3 (ipykernel)",
   "language": "python",
   "name": "python3"
  },
  "language_info": {
   "codemirror_mode": {
    "name": "ipython",
    "version": 3
   },
   "file_extension": ".py",
   "mimetype": "text/x-python",
   "name": "python",
   "nbconvert_exporter": "python",
   "pygments_lexer": "ipython3",
   "version": "3.12.2"
  }
 },
 "nbformat": 4,
 "nbformat_minor": 5
}
