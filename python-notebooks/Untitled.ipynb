{
 "cells": [
  {
   "cell_type": "code",
   "execution_count": 1,
   "id": "e4540841-88f0-465d-a9c3-57e0e645b61e",
   "metadata": {},
   "outputs": [
    {
     "name": "stdout",
     "output_type": "stream",
     "text": [
      "VedAstro - Made & Funded by Users - https://vedastro.org/Donate\n",
      "\n"
     ]
    }
   ],
   "source": [
    "from vedic_astro_calc import *"
   ]
  },
  {
   "cell_type": "code",
   "execution_count": 2,
   "id": "17e5fce2-babd-424d-9b48-8cebf0879e68",
   "metadata": {},
   "outputs": [],
   "source": [
    "# user data\n",
    "city = 'Snezhinsk'\n",
    "country = 'Russia'\n",
    "birth_date = \"20.01.1987\"\n",
    "birth_time = \"10:53\"\n",
    "latitude, longitude = 56.05, 60.44"
   ]
  },
  {
   "cell_type": "code",
   "execution_count": 3,
   "id": "ad3d4a46-37ae-42ef-a506-71fa50d474a8",
   "metadata": {},
   "outputs": [
    {
     "name": "stdout",
     "output_type": "stream",
     "text": [
      "Asia/Yekaterinburg\n"
     ]
    }
   ],
   "source": [
    "birth_datetime_str = birth_date + ' ' + birth_time\n",
    "location_name = city + ', ' + country\n",
    "tz_name = get_birth_timezone(birth_datetime_str, latitude, longitude)\n",
    "print(tz_name)"
   ]
  },
  {
   "cell_type": "code",
   "execution_count": 4,
   "id": "4fac6f8c-dbfe-42b2-bb0b-86ccd56a5a70",
   "metadata": {},
   "outputs": [
    {
     "name": "stdout",
     "output_type": "stream",
     "text": [
      "1987-01-20 05:53:00+00:00\n"
     ]
    }
   ],
   "source": [
    "dt_utc = get_utc_birth_datetime(birth_datetime_str, tz_name)\n",
    "print(dt_utc)"
   ]
  },
  {
   "cell_type": "code",
   "execution_count": 5,
   "id": "ef434368-9387-460f-a1f6-51e07345006c",
   "metadata": {},
   "outputs": [],
   "source": [
    "t = convert_utc_to_local_string(dt_utc, tz_name)"
   ]
  },
  {
   "cell_type": "code",
   "execution_count": 6,
   "id": "c390e07b-19b3-4c96-8bb8-125bbd1a6de8",
   "metadata": {},
   "outputs": [
    {
     "data": {
      "text/plain": [
       "'10:53 20/01/1987 +05:00'"
      ]
     },
     "execution_count": 6,
     "metadata": {},
     "output_type": "execute_result"
    }
   ],
   "source": [
    "t"
   ]
  },
  {
   "cell_type": "code",
   "execution_count": 7,
   "id": "ecf10946-b440-43ae-9391-39bbb4b42a8e",
   "metadata": {},
   "outputs": [
    {
     "data": {
      "text/plain": [
       "'Snezhinsk, Russia'"
      ]
     },
     "execution_count": 7,
     "metadata": {},
     "output_type": "execute_result"
    }
   ],
   "source": [
    "location_name"
   ]
  },
  {
   "cell_type": "code",
   "execution_count": 8,
   "id": "b4974e9e-03fd-4d11-9069-2aea4343aa43",
   "metadata": {},
   "outputs": [
    {
     "name": "stdout",
     "output_type": "stream",
     "text": [
      "10:53 20/01/1987 +05:00\n"
     ]
    }
   ],
   "source": [
    "vedicAstro_data = get_vedicAstroAPI_data(dt_utc, tz_name, location_name, latitude, longitude)\n",
    "#planets_data = get_planets_positions(dt_utc)"
   ]
  },
  {
   "cell_type": "code",
   "execution_count": 9,
   "id": "ddfb3517-904a-42dd-abf5-424ad76f12de",
   "metadata": {},
   "outputs": [],
   "source": [
    "houses_data = Calculate.AllHouseRasiSigns(vedicAstro_data)"
   ]
  },
  {
   "cell_type": "code",
   "execution_count": 10,
   "id": "79382923-1251-403e-9112-65584a6b38d3",
   "metadata": {},
   "outputs": [
    {
     "data": {
      "text/plain": [
       "[{'House': 'House1', 'AllHouseRasiSigns': \"Pisces : 1° 50' 18\"},\n",
       " {'House': 'House2', 'AllHouseRasiSigns': \"Aries : 1° 50' 18\"},\n",
       " {'House': 'House3', 'AllHouseRasiSigns': \"Taurus : 1° 50' 18\"},\n",
       " {'House': 'House4', 'AllHouseRasiSigns': \"Gemini : 1° 50' 18\"},\n",
       " {'House': 'House5', 'AllHouseRasiSigns': \"Cancer : 1° 50' 18\"},\n",
       " {'House': 'House6', 'AllHouseRasiSigns': \"Leo : 1° 50' 18\"},\n",
       " {'House': 'House7', 'AllHouseRasiSigns': \"Virgo : 1° 50' 18\"},\n",
       " {'House': 'House8', 'AllHouseRasiSigns': \"Libra : 1° 50' 18\"},\n",
       " {'House': 'House9', 'AllHouseRasiSigns': \"Scorpio : 1° 50' 18\"},\n",
       " {'House': 'House10', 'AllHouseRasiSigns': \"Sagittarius : 1° 50' 18\"},\n",
       " {'House': 'House11', 'AllHouseRasiSigns': \"Capricorn : 1° 50' 18\"},\n",
       " {'House': 'House12', 'AllHouseRasiSigns': \"Aquarius : 1° 50' 18\"}]"
      ]
     },
     "execution_count": 10,
     "metadata": {},
     "output_type": "execute_result"
    }
   ],
   "source": [
    "houses_data"
   ]
  },
  {
   "cell_type": "code",
   "execution_count": 5,
   "id": "d5ea566b-4583-486b-a778-3baea742d702",
   "metadata": {},
   "outputs": [
    {
     "name": "stdout",
     "output_type": "stream",
     "text": [
      "Pisces : 1° 50' 18\n"
     ]
    }
   ],
   "source": [
    "# API call for ascendant\n",
    "asc = get_asc(vedicAstro_data)\n",
    "print(asc)"
   ]
  },
  {
   "cell_type": "code",
   "execution_count": 6,
   "id": "41c4a51e-dfcd-4242-8e9f-b8845b571403",
   "metadata": {},
   "outputs": [],
   "source": [
    "houses_data = Calculate.AllHouseRasiSigns(vedicAstro_data)"
   ]
  },
  {
   "cell_type": "code",
   "execution_count": 7,
   "id": "8af0a2df-505b-4614-a006-b558c05a9107",
   "metadata": {},
   "outputs": [
    {
     "data": {
      "text/plain": [
       "[{'House': 'House1', 'AllHouseRasiSigns': \"Pisces : 1° 50' 18\"},\n",
       " {'House': 'House2', 'AllHouseRasiSigns': \"Aries : 1° 50' 18\"},\n",
       " {'House': 'House3', 'AllHouseRasiSigns': \"Taurus : 1° 50' 18\"},\n",
       " {'House': 'House4', 'AllHouseRasiSigns': \"Gemini : 1° 50' 18\"},\n",
       " {'House': 'House5', 'AllHouseRasiSigns': \"Cancer : 1° 50' 18\"},\n",
       " {'House': 'House6', 'AllHouseRasiSigns': \"Leo : 1° 50' 18\"},\n",
       " {'House': 'House7', 'AllHouseRasiSigns': \"Virgo : 1° 50' 18\"},\n",
       " {'House': 'House8', 'AllHouseRasiSigns': \"Libra : 1° 50' 18\"},\n",
       " {'House': 'House9', 'AllHouseRasiSigns': \"Scorpio : 1° 50' 18\"},\n",
       " {'House': 'House10', 'AllHouseRasiSigns': \"Sagittarius : 1° 50' 18\"},\n",
       " {'House': 'House11', 'AllHouseRasiSigns': \"Capricorn : 1° 50' 18\"},\n",
       " {'House': 'House12', 'AllHouseRasiSigns': \"Aquarius : 1° 50' 18\"}]"
      ]
     },
     "execution_count": 7,
     "metadata": {},
     "output_type": "execute_result"
    }
   ],
   "source": [
    "houses_data"
   ]
  }
 ],
 "metadata": {
  "kernelspec": {
   "display_name": "Python 3 (ipykernel)",
   "language": "python",
   "name": "python3"
  },
  "language_info": {
   "codemirror_mode": {
    "name": "ipython",
    "version": 3
   },
   "file_extension": ".py",
   "mimetype": "text/x-python",
   "name": "python",
   "nbconvert_exporter": "python",
   "pygments_lexer": "ipython3",
   "version": "3.12.2"
  }
 },
 "nbformat": 4,
 "nbformat_minor": 5
}
