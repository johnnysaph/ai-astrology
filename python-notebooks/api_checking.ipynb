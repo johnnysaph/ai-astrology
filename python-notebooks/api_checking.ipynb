{
 "cells": [
  {
   "cell_type": "code",
   "execution_count": 1,
   "id": "4263d2a5-b49d-4017-ad3d-fb0dfb09445a",
   "metadata": {},
   "outputs": [],
   "source": [
    "import requests\n",
    "\n",
    "url = \"https://ai-astrology-api.onrender.com/calculate\"\n",
    "\n",
    "data = {\n",
    "    \"date\": \"20.01.1987\",\n",
    "    \"time\": \"10:53:00\",\n",
    "    \"lat\": 56.085,\n",
    "    \"lon\": 60.73\n",
    "}"
   ]
  },
  {
   "cell_type": "code",
   "execution_count": 2,
   "id": "51ce042b-e868-4232-ae8f-e6702437bbd9",
   "metadata": {},
   "outputs": [
    {
     "name": "stdout",
     "output_type": "stream",
     "text": [
      "Status: 200\n",
      "Response:\n",
      "{'charts': {'rasi': {'type': 'RASI', 'planets': [{'planet': 'Асцендент', 'abbr': 'As', 'sign': 'Рыбы', 'degree': '+00:23:19', 'house': 1, 'aspects': [], 'role': '-', 'relation': '-', 'is_retrograde': False, 'nakshatra': 'Пурва Бхадрапада', 'sign_lord': 'Юпитер', 'nakshatra_lord': 'Юпитер', 'houses_ruled': []}, {'planet': 'Солнце', 'abbr': 'Su', 'sign': 'Козерог', 'degree': '+05:57:07', 'house': 11, 'aspects': [5], 'role': 'Вредитель', 'relation': 'Нейтрально', 'is_retrograde': False, 'nakshatra': 'Уттара Ашадха', 'sign_lord': 'Сатурн', 'nakshatra_lord': 'Солнце', 'houses_ruled': [6]}, {'planet': 'Луна', 'abbr': 'Mo', 'sign': 'Дева', 'degree': '+03:32:51', 'house': 7, 'aspects': [1], 'role': 'Благодетель', 'relation': 'Нейтрально', 'is_retrograde': False, 'nakshatra': 'Уттара Пхалгуни', 'sign_lord': 'Меркурий', 'nakshatra_lord': 'Солнце', 'houses_ruled': [5]}, {'planet': 'Меркурий', 'abbr': 'Me', 'sign': 'Козерог', 'degree': '+10:53:37', 'house': 11, 'aspects': [5], 'role': 'Нейтрально', 'relation': 'Друг', 'is_retrograde': False, 'nakshatra': 'Шравана', 'sign_lord': 'Сатурн', 'nakshatra_lord': 'Луна', 'houses_ruled': [4, 7]}, {'planet': 'Венера', 'abbr': 'Ve', 'sign': 'Скорпион', 'degree': '+19:09:01', 'house': 9, 'aspects': [3], 'role': 'Вредитель', 'relation': 'Враг', 'is_retrograde': False, 'nakshatra': 'Джьештха', 'sign_lord': 'Марс', 'nakshatra_lord': 'Меркурий', 'houses_ruled': [3, 8]}, {'planet': 'Марс', 'abbr': 'Ma', 'sign': 'Рыбы', 'degree': '+14:31:23', 'house': 1, 'aspects': [4, 7, 8], 'role': 'Благодетель', 'relation': 'Большой друг', 'is_retrograde': False, 'nakshatra': 'Уттара Бхадрапада', 'sign_lord': 'Юпитер', 'nakshatra_lord': 'Сатурн', 'houses_ruled': [2, 9]}, {'planet': 'Юпитер', 'abbr': 'Ju', 'sign': 'Водолей', 'degree': '+27:14:06', 'house': 12, 'aspects': [4, 6, 8], 'role': 'Благодетель', 'relation': 'Друг', 'is_retrograde': False, 'nakshatra': 'Пурва Бхадрапада', 'sign_lord': 'Сатурн', 'nakshatra_lord': 'Юпитер', 'houses_ruled': [1, 10]}, {'planet': 'Сатурн', 'abbr': 'Sa', 'sign': 'Скорпион', 'degree': '+23:43:54', 'house': 9, 'aspects': [3, 6, 11], 'role': 'Вредитель', 'relation': 'Большой враг', 'is_retrograde': False, 'nakshatra': 'Джьештха', 'sign_lord': 'Марс', 'nakshatra_lord': 'Меркурий', 'houses_ruled': [11, 12]}, {'planet': 'Раху', 'abbr': 'Ra', 'sign': 'Рыбы', 'degree': '+21:48:01', 'house': 1, 'aspects': [], 'role': '-', 'relation': '-', 'is_retrograde': True, 'nakshatra': 'Ревати', 'sign_lord': 'Юпитер', 'nakshatra_lord': 'Меркурий', 'houses_ruled': []}, {'planet': 'Кету', 'abbr': 'Ke', 'sign': 'Дева', 'degree': '+21:48:01', 'house': 7, 'aspects': [], 'role': '-', 'relation': '-', 'is_retrograde': True, 'nakshatra': 'Хаста', 'sign_lord': 'Меркурий', 'nakshatra_lord': 'Луна', 'houses_ruled': []}], 'signs_by_house': {'1': 12, '2': 1, '3': 2, '4': 3, '5': 4, '6': 5, '7': 6, '8': 7, '9': 8, '10': 9, '11': 10, '12': 11}}, 'navamsa': {'type': 'NAVAMSA', 'planets': [{'planet': 'Асцендент', 'abbr': 'As', 'sign': 'Рак', 'degree': '+03:29:51', 'house': 1, 'aspects': [], 'role': '-', 'relation': '-', 'is_retrograde': False, 'nakshatra': None, 'sign_lord': 'Луна', 'nakshatra_lord': None, 'houses_ruled': []}, {'planet': 'Солнце', 'abbr': 'Su', 'sign': 'Водолей', 'degree': '+23:34:03', 'house': 8, 'aspects': [2], 'role': 'Нейтрально', 'relation': 'Большой враг', 'is_retrograde': False, 'nakshatra': None, 'sign_lord': 'Сатурн', 'nakshatra_lord': None, 'houses_ruled': [2]}, {'planet': 'Луна', 'abbr': 'Mo', 'sign': 'Водолей', 'degree': '+01:55:39', 'house': 8, 'aspects': [2], 'role': 'Благодетель', 'relation': 'Враг', 'is_retrograde': False, 'nakshatra': None, 'sign_lord': 'Сатурн', 'nakshatra_lord': None, 'houses_ruled': [1]}, {'planet': 'Меркурий', 'abbr': 'Me', 'sign': 'Овен', 'degree': '+08:02:33', 'house': 10, 'aspects': [4], 'role': 'Вредитель', 'relation': 'Враг', 'is_retrograde': False, 'nakshatra': None, 'sign_lord': 'Марс', 'nakshatra_lord': None, 'houses_ruled': [3, 12]}, {'planet': 'Венера', 'abbr': 'Ve', 'sign': 'Стрелец', 'degree': '+22:21:09', 'house': 6, 'aspects': [12], 'role': 'Вредитель', 'relation': 'Враг', 'is_retrograde': False, 'nakshatra': None, 'sign_lord': 'Юпитер', 'nakshatra_lord': None, 'houses_ruled': [4, 11]}, {'planet': 'Марс', 'abbr': 'Ma', 'sign': 'Скорпион', 'degree': '+10:42:27', 'house': 5, 'aspects': [8, 11, 12], 'role': 'Йога-карака', 'relation': 'Свой знак', 'is_retrograde': False, 'nakshatra': None, 'sign_lord': 'Марс', 'nakshatra_lord': None, 'houses_ruled': [5, 10]}, {'planet': 'Юпитер', 'abbr': 'Ju', 'sign': 'Близнецы', 'degree': '+05:06:54', 'house': 12, 'aspects': [4, 6, 8], 'role': 'Вредитель', 'relation': 'Нейтрально', 'is_retrograde': False, 'nakshatra': None, 'sign_lord': 'Меркурий', 'nakshatra_lord': None, 'houses_ruled': [6, 9]}, {'planet': 'Сатурн', 'abbr': 'Sa', 'sign': 'Водолей', 'degree': '+03:35:06', 'house': 8, 'aspects': [2, 5, 10], 'role': 'Вредитель', 'relation': 'Мулатрикона', 'is_retrograde': False, 'nakshatra': None, 'sign_lord': 'Сатурн', 'nakshatra_lord': None, 'houses_ruled': [7, 8]}, {'planet': 'Раху', 'abbr': 'Ra', 'sign': 'Козерог', 'degree': '+16:12:09', 'house': 7, 'aspects': [], 'role': '-', 'relation': '-', 'is_retrograde': False, 'nakshatra': None, 'sign_lord': 'Сатурн', 'nakshatra_lord': None, 'houses_ruled': []}, {'planet': 'Кету', 'abbr': 'Ke', 'sign': 'Рак', 'degree': '+16:12:09', 'house': 1, 'aspects': [], 'role': '-', 'relation': '-', 'is_retrograde': False, 'nakshatra': None, 'sign_lord': 'Луна', 'nakshatra_lord': None, 'houses_ruled': []}], 'signs_by_house': {'1': 4, '2': 5, '3': 6, '4': 7, '5': 8, '6': 9, '7': 10, '8': 11, '9': 12, '10': 1, '11': 2, '12': 3}}}, 'metadata': {'ayanamsa': 'Lahiri', 'generated_at': '2025-06-29T09:12:23.319227Z'}}\n"
     ]
    }
   ],
   "source": [
    "response = requests.post(url, json=data)\n",
    "\n",
    "print(\"Status:\", response.status_code)\n",
    "print(\"Response:\")\n",
    "print(response.json())"
   ]
  }
 ],
 "metadata": {
  "kernelspec": {
   "display_name": "Python 3 (ipykernel)",
   "language": "python",
   "name": "python3"
  },
  "language_info": {
   "codemirror_mode": {
    "name": "ipython",
    "version": 3
   },
   "file_extension": ".py",
   "mimetype": "text/x-python",
   "name": "python",
   "nbconvert_exporter": "python",
   "pygments_lexer": "ipython3",
   "version": "3.12.2"
  }
 },
 "nbformat": 4,
 "nbformat_minor": 5
}
