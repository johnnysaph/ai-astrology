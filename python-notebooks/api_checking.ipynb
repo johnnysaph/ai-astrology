{
 "cells": [
  {
   "cell_type": "code",
   "execution_count": 1,
   "id": "4263d2a5-b49d-4017-ad3d-fb0dfb09445a",
   "metadata": {},
   "outputs": [],
   "source": [
    "import requests\n",
    "\n",
    "url = \"https://ai-astrology-api.onrender.com/calculate\"\n",
    "\n",
    "data = {\n",
    "    \"date\": \"20.01.1987\",\n",
    "    \"time\": \"10:53:00\",\n",
    "    \"lat\": 56.085,\n",
    "    \"lon\": 60.73\n",
    "}"
   ]
  },
  {
   "cell_type": "code",
   "execution_count": 2,
   "id": "51ce042b-e868-4232-ae8f-e6702437bbd9",
   "metadata": {},
   "outputs": [
    {
     "name": "stdout",
     "output_type": "stream",
     "text": [
      "Status: 200\n",
      "Response:\n",
      "{'error': \"build_api_response() missing 1 required positional argument: 'charts'\"}\n"
     ]
    }
   ],
   "source": [
    "response = requests.post(url, json=data)\n",
    "\n",
    "print(\"Status:\", response.status_code)\n",
    "print(\"Response:\")\n",
    "print(response.json())"
   ]
  }
 ],
 "metadata": {
  "kernelspec": {
   "display_name": "Python 3 (ipykernel)",
   "language": "python",
   "name": "python3"
  },
  "language_info": {
   "codemirror_mode": {
    "name": "ipython",
    "version": 3
   },
   "file_extension": ".py",
   "mimetype": "text/x-python",
   "name": "python",
   "nbconvert_exporter": "python",
   "pygments_lexer": "ipython3",
   "version": "3.12.2"
  }
 },
 "nbformat": 4,
 "nbformat_minor": 5
}
