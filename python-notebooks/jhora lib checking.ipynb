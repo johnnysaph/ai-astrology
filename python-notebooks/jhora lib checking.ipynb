{
 "cells": [
  {
   "cell_type": "code",
   "execution_count": 1,
   "id": "5dc9f8ba-9b40-4ce3-8462-ca6b1d7b5378",
   "metadata": {},
   "outputs": [
    {
     "name": "stdout",
     "output_type": "stream",
     "text": [
      "hora C:\\Users\\Ivan added to system path ['C:\\\\Users\\\\Ivan\\\\AppData\\\\Local\\\\Programs\\\\Python\\\\Python312\\\\python312.zip', 'C:\\\\Users\\\\Ivan\\\\AppData\\\\Local\\\\Programs\\\\Python\\\\Python312\\\\DLLs', 'C:\\\\Users\\\\Ivan\\\\AppData\\\\Local\\\\Programs\\\\Python\\\\Python312\\\\Lib', 'C:\\\\Users\\\\Ivan\\\\AppData\\\\Local\\\\Programs\\\\Python\\\\Python312', '', 'C:\\\\Users\\\\Ivan\\\\AppData\\\\Local\\\\Programs\\\\Python\\\\Python312\\\\Lib\\\\site-packages', 'C:\\\\Users\\\\Ivan\\\\AppData\\\\Local\\\\Programs\\\\Python\\\\Python312\\\\Lib\\\\site-packages\\\\win32', 'C:\\\\Users\\\\Ivan\\\\AppData\\\\Local\\\\Programs\\\\Python\\\\Python312\\\\Lib\\\\site-packages\\\\win32\\\\lib', 'C:\\\\Users\\\\Ivan\\\\AppData\\\\Local\\\\Programs\\\\Python\\\\Python312\\\\Lib\\\\site-packages\\\\Pythonwin', 'C:\\\\Users\\\\Ivan']\n",
      "C:\\Users added to system path ['C:\\\\Users\\\\Ivan\\\\AppData\\\\Local\\\\Programs\\\\Python\\\\Python312\\\\python312.zip', 'C:\\\\Users\\\\Ivan\\\\AppData\\\\Local\\\\Programs\\\\Python\\\\Python312\\\\DLLs', 'C:\\\\Users\\\\Ivan\\\\AppData\\\\Local\\\\Programs\\\\Python\\\\Python312\\\\Lib', 'C:\\\\Users\\\\Ivan\\\\AppData\\\\Local\\\\Programs\\\\Python\\\\Python312', '', 'C:\\\\Users\\\\Ivan\\\\AppData\\\\Local\\\\Programs\\\\Python\\\\Python312\\\\Lib\\\\site-packages', 'C:\\\\Users\\\\Ivan\\\\AppData\\\\Local\\\\Programs\\\\Python\\\\Python312\\\\Lib\\\\site-packages\\\\win32', 'C:\\\\Users\\\\Ivan\\\\AppData\\\\Local\\\\Programs\\\\Python\\\\Python312\\\\Lib\\\\site-packages\\\\win32\\\\lib', 'C:\\\\Users\\\\Ivan\\\\AppData\\\\Local\\\\Programs\\\\Python\\\\Python312\\\\Lib\\\\site-packages\\\\Pythonwin', 'C:\\\\Users\\\\Ivan', 'C:\\\\Users']\n"
     ]
    }
   ],
   "source": [
    "from jhora.utils import julian_day_number\n",
    "from jhora.horoscope.chart.charts import rasi_chart, navamsa_chart\n",
    "import jhora.const as const\n",
    "import jhora.panchanga.drik as drik\n",
    "from jhora.panchanga.drik import Place\n",
    "import pandas as pd\n",
    "\n",
    "\n",
    "# Устанавливаем корректное имя аянсамши\n",
    "#const._DEFAULT_AYANAMSA_MODE = 'LAHIRI'\n",
    "#drik._ayanamsa_mode = 'LAHIRI'"
   ]
  },
  {
   "cell_type": "code",
   "execution_count": 2,
   "id": "5bfc7265-05c7-46be-b64a-68010e413d48",
   "metadata": {},
   "outputs": [],
   "source": [
    "# Юлианская дата\n",
    "date_tuple = (1987, 1, 20)\n",
    "time_tuple = (10, 54, 0)\n",
    "jd = julian_day_number(date_tuple, time_tuple)\n",
    "\n",
    "#class Place:\n",
    "#    def __init__(self, name, lat, lon, tz):\n",
    "#        self.name = name\n",
    "#        self.latitude = lat\n",
    "#        self.longitude = lon\n",
    "#        self.timezone = tz\n",
    "#\n",
    "#    def __iter__(self):\n",
    "#        return iter((self.name, self.latitude, self.longitude, self.timezone))\n",
    "\n",
    "place = Place(\"Snezhinsk\", 56.05, 60.44, 5.0)\n",
    "\n",
    "# Построение карты\n",
    "positions = rasi_chart(\n",
    "    jd_at_dob=jd,\n",
    "    place_as_tuple=place,\n",
    "    ayanamsa_mode=\"LAHIRI\",  # ⚠️ Обязательно с большой буквы\n",
    "    calculation_type=\"drik\"\n",
    ")"
   ]
  },
  {
   "cell_type": "code",
   "execution_count": 3,
   "id": "522a6930-02cc-4cfb-955b-c0a3ff33b3e1",
   "metadata": {},
   "outputs": [
    {
     "name": "stdout",
     "output_type": "stream",
     "text": [
      "⯈ Раси-чарт (D1):\n",
      "Lagna   → Pisces     0.28°\n",
      "Sun     → Capricorn  5.96°\n",
      "Moon    → Virgo      3.56°\n",
      "Mars    → Pisces     14.53°\n",
      "Mercury → Capricorn  10.91°\n",
      "Jupiter → Aquarius   27.24°\n",
      "Venus   → Scorpio    19.16°\n",
      "Saturn  → Scorpio    23.74°\n",
      "Rahu    → Pisces     21.80°\n",
      "Ketu    → Virgo      21.80°\n"
     ]
    }
   ],
   "source": [
    "PLANET_NAMES = {\n",
    "    'L': 'Lagna',\n",
    "    0: 'Sun',\n",
    "    1: 'Moon',\n",
    "    2: 'Mars',\n",
    "    3: 'Mercury',\n",
    "    4: 'Jupiter',\n",
    "    5: 'Venus',\n",
    "    6: 'Saturn',\n",
    "    7: 'Rahu',\n",
    "    8: 'Ketu'\n",
    "}\n",
    "\n",
    "RASI_SIGNS = [\n",
    "    \"Aries\", \"Taurus\", \"Gemini\", \"Cancer\",\n",
    "    \"Leo\", \"Virgo\", \"Libra\", \"Scorpio\",\n",
    "    \"Sagittarius\", \"Capricorn\", \"Aquarius\", \"Pisces\"\n",
    "]\n",
    "\n",
    "print(\"⯈ Раси-чарт (D1):\")\n",
    "for body in positions:\n",
    "    pid, (sign_idx, deg) = body\n",
    "    name = PLANET_NAMES.get(pid, str(pid))\n",
    "    sign = RASI_SIGNS[sign_idx]\n",
    "    print(f\"{name:7} → {sign:10} {deg:.2f}°\")"
   ]
  },
  {
   "cell_type": "code",
   "execution_count": 4,
   "id": "5cdf89ba-77de-46be-bef4-1c5e3df3abbd",
   "metadata": {},
   "outputs": [
    {
     "data": {
      "text/plain": [
       "[['L', (11, 0.2830373594397315)],\n",
       " [0, (9, 5.958494096661184)],\n",
       " [1, (5, 3.55646168702188)],\n",
       " [2, (11, 14.529606135959682)],\n",
       " [3, (9, 10.908477470489174)],\n",
       " [4, (10, 27.241372313932573)],\n",
       " [5, (7, 19.155147300418065)],\n",
       " [6, (7, 23.737783323794133)],\n",
       " [7, (11, 21.800147399579544)],\n",
       " [8, (5, 21.8001473995796)]]"
      ]
     },
     "execution_count": 4,
     "metadata": {},
     "output_type": "execute_result"
    }
   ],
   "source": [
    "positions"
   ]
  },
  {
   "cell_type": "code",
   "execution_count": null,
   "id": "5eba611f-b135-4ea6-92cd-252c3984b8e1",
   "metadata": {},
   "outputs": [],
   "source": []
  },
  {
   "cell_type": "code",
   "execution_count": 6,
   "id": "6e75ed28-e483-423a-9c13-3aa5a737f65e",
   "metadata": {},
   "outputs": [],
   "source": [
    "navamsa = navamsa_chart(positions, chart_method=1)"
   ]
  },
  {
   "cell_type": "code",
   "execution_count": 7,
   "id": "1a175717-f0b1-4419-abc6-160f005e4c5a",
   "metadata": {},
   "outputs": [
    {
     "name": "stdout",
     "output_type": "stream",
     "text": [
      "⯈ навамша-чарт (D1):\n",
      "Lagna   → Cancer     2.55°\n",
      "Sun     → Aquarius   23.63°\n",
      "Moon    → Aquarius   2.01°\n",
      "Mars    → Scorpio    10.77°\n",
      "Mercury → Aries      8.18°\n",
      "Jupiter → Gemini     5.17°\n",
      "Venus   → Sagittarius 22.40°\n",
      "Saturn  → Aquarius   3.64°\n",
      "Rahu    → Capricorn  16.20°\n",
      "Ketu    → Cancer     16.20°\n"
     ]
    }
   ],
   "source": [
    "print(\"⯈ навамша-чарт (D1):\")\n",
    "for body in navamsa:\n",
    "    pid, (sign_idx, deg) = body\n",
    "    name = PLANET_NAMES.get(pid, str(pid))\n",
    "    sign = RASI_SIGNS[sign_idx]\n",
    "    print(f\"{name:7} → {sign:10} {deg:.2f}°\")"
   ]
  },
  {
   "cell_type": "code",
   "execution_count": 4,
   "id": "d6864f40-d2c4-48e6-9555-b0b9da96f7f4",
   "metadata": {},
   "outputs": [],
   "source": [
    "from jhora.horoscope.chart.strength import shad_bala"
   ]
  },
  {
   "cell_type": "code",
   "execution_count": 5,
   "id": "0b470789-84f0-48a0-96fb-2b10d9b16583",
   "metadata": {},
   "outputs": [
    {
     "name": "stdout",
     "output_type": "stream",
     "text": [
      "🧪 Shad Bala:\n",
      "Sum in Shastiamsa: [374.2, 325.16, 459.24, 492.22, 430.31, 381.68, 357.28]\n",
      "Rupa (in units): [6.24, 5.42, 7.65, 8.2, 7.17, 6.36, 5.95]\n",
      "Relative strength (1 = strong): [1.25, 0.9, 1.53, 1.17, 1.1, 1.16, 1.19]\n"
     ]
    }
   ],
   "source": [
    "# Вызываем расчёт шадбалы\n",
    "results = shad_bala(jd, place, ayanamsa_mode=\"LAHIRI\")\n",
    "\n",
    "# Распакуем\n",
    "sthana, kaala, dig, cheshta, naisargika, drik, sb_sum, sb_rupa, sb_strength = results\n",
    "\n",
    "print(\"🧪 Shad Bala:\")\n",
    "print(\"Sum in Shastiamsa:\", sb_sum)\n",
    "print(\"Rupa (in units):\", sb_rupa)\n",
    "print(\"Relative strength (1 = strong):\", sb_strength)"
   ]
  },
  {
   "cell_type": "code",
   "execution_count": 6,
   "id": "2f6c71bf-28e6-4602-bbd1-94ff059f9a5d",
   "metadata": {},
   "outputs": [
    {
     "name": "stdout",
     "output_type": "stream",
     "text": [
      "🌟 Shad Bala по планетам:\n",
      "Planet      Total   Rupa Strength\n",
      "Sun        374.20   6.24     1.25\n",
      "Moon       325.16   5.42     0.90\n",
      "Mars       459.24   7.65     1.53\n",
      "Mercury    492.22   8.20     1.17\n",
      "Jupiter    430.31   7.17     1.10\n",
      "Venus      381.68   6.36     1.16\n",
      "Saturn     357.28   5.95     1.19\n"
     ]
    }
   ],
   "source": [
    "PLANETS = [\"Sun\", \"Moon\", \"Mars\", \"Mercury\", \"Jupiter\", \"Venus\", \"Saturn\"]\n",
    "\n",
    "print(\"🌟 Shad Bala по планетам:\")\n",
    "print(f\"{'Planet':10} {'Total':>6} {'Rupa':>6} {'Strength':>8}\")\n",
    "for i, planet in enumerate(PLANETS):\n",
    "    print(f\"{planet:10} {sb_sum[i]:6.2f} {sb_rupa[i]:6.2f} {sb_strength[i]:8.2f}\")"
   ]
  },
  {
   "cell_type": "code",
   "execution_count": 7,
   "id": "43f5d3ab-caca-4f1b-b719-856af90b7a60",
   "metadata": {},
   "outputs": [],
   "source": [
    "def shadbala_to_dataframe(results):\n",
    "    planets = [\"Sun\", \"Moon\", \"Mars\", \"Mercury\", \"Jupiter\", \"Venus\", \"Saturn\"]\n",
    "    sb_sum = results[6]\n",
    "    sb_rupa = [round(val / 60.0, 2) for val in sb_sum]\n",
    "    \n",
    "    # Нормы в шастиамшах\n",
    "    planet_to_power = {\n",
    "        \"Sun\": 390,\n",
    "        \"Moon\": 360,\n",
    "        \"Mars\": 300,\n",
    "        \"Mercury\": 420,\n",
    "        \"Jupiter\": 390,\n",
    "        \"Venus\": 330,\n",
    "        \"Saturn\": 300\n",
    "    }\n",
    "\n",
    "    normalized_power = [\n",
    "        round(sb_sum[i] / planet_to_power[planets[i]], 2) for i in range(7)\n",
    "    ]\n",
    "\n",
    "    df = pd.DataFrame({\n",
    "        \"Planet\": planets,\n",
    "        \"Total (Shastiamsa)\": sb_sum,\n",
    "        \"Rupa (Virupa)\": sb_rupa,\n",
    "        \"Required (Shastiamsa)\": [planet_to_power[p] for p in planets],\n",
    "        \"Normalized Power\": normalized_power\n",
    "    })\n",
    "\n",
    "    return df"
   ]
  },
  {
   "cell_type": "code",
   "execution_count": 8,
   "id": "7fcdbd7a-3c4b-45ff-8138-a04903f641f8",
   "metadata": {},
   "outputs": [],
   "source": [
    "df = shadbala_to_dataframe(results)"
   ]
  },
  {
   "cell_type": "code",
   "execution_count": 10,
   "id": "18cb0a23-c0a2-4e0b-9ffc-f42c656b8ce8",
   "metadata": {},
   "outputs": [
    {
     "data": {
      "text/html": [
       "<div>\n",
       "<style scoped>\n",
       "    .dataframe tbody tr th:only-of-type {\n",
       "        vertical-align: middle;\n",
       "    }\n",
       "\n",
       "    .dataframe tbody tr th {\n",
       "        vertical-align: top;\n",
       "    }\n",
       "\n",
       "    .dataframe thead th {\n",
       "        text-align: right;\n",
       "    }\n",
       "</style>\n",
       "<table border=\"1\" class=\"dataframe\">\n",
       "  <thead>\n",
       "    <tr style=\"text-align: right;\">\n",
       "      <th></th>\n",
       "      <th>Planet</th>\n",
       "      <th>Total (Shastiamsa)</th>\n",
       "      <th>Rupa (Virupa)</th>\n",
       "      <th>Required (Shastiamsa)</th>\n",
       "      <th>Normalized Power</th>\n",
       "    </tr>\n",
       "  </thead>\n",
       "  <tbody>\n",
       "    <tr>\n",
       "      <th>1</th>\n",
       "      <td>Moon</td>\n",
       "      <td>325.16</td>\n",
       "      <td>5.42</td>\n",
       "      <td>360</td>\n",
       "      <td>0.90</td>\n",
       "    </tr>\n",
       "    <tr>\n",
       "      <th>6</th>\n",
       "      <td>Saturn</td>\n",
       "      <td>357.28</td>\n",
       "      <td>5.95</td>\n",
       "      <td>300</td>\n",
       "      <td>1.19</td>\n",
       "    </tr>\n",
       "    <tr>\n",
       "      <th>0</th>\n",
       "      <td>Sun</td>\n",
       "      <td>374.20</td>\n",
       "      <td>6.24</td>\n",
       "      <td>390</td>\n",
       "      <td>0.96</td>\n",
       "    </tr>\n",
       "    <tr>\n",
       "      <th>5</th>\n",
       "      <td>Venus</td>\n",
       "      <td>381.68</td>\n",
       "      <td>6.36</td>\n",
       "      <td>330</td>\n",
       "      <td>1.16</td>\n",
       "    </tr>\n",
       "    <tr>\n",
       "      <th>4</th>\n",
       "      <td>Jupiter</td>\n",
       "      <td>430.31</td>\n",
       "      <td>7.17</td>\n",
       "      <td>390</td>\n",
       "      <td>1.10</td>\n",
       "    </tr>\n",
       "    <tr>\n",
       "      <th>2</th>\n",
       "      <td>Mars</td>\n",
       "      <td>459.24</td>\n",
       "      <td>7.65</td>\n",
       "      <td>300</td>\n",
       "      <td>1.53</td>\n",
       "    </tr>\n",
       "    <tr>\n",
       "      <th>3</th>\n",
       "      <td>Mercury</td>\n",
       "      <td>492.22</td>\n",
       "      <td>8.20</td>\n",
       "      <td>420</td>\n",
       "      <td>1.17</td>\n",
       "    </tr>\n",
       "  </tbody>\n",
       "</table>\n",
       "</div>"
      ],
      "text/plain": [
       "    Planet  Total (Shastiamsa)  Rupa (Virupa)  Required (Shastiamsa)  \\\n",
       "1     Moon              325.16           5.42                    360   \n",
       "6   Saturn              357.28           5.95                    300   \n",
       "0      Sun              374.20           6.24                    390   \n",
       "5    Venus              381.68           6.36                    330   \n",
       "4  Jupiter              430.31           7.17                    390   \n",
       "2     Mars              459.24           7.65                    300   \n",
       "3  Mercury              492.22           8.20                    420   \n",
       "\n",
       "   Normalized Power  \n",
       "1              0.90  \n",
       "6              1.19  \n",
       "0              0.96  \n",
       "5              1.16  \n",
       "4              1.10  \n",
       "2              1.53  \n",
       "3              1.17  "
      ]
     },
     "execution_count": 10,
     "metadata": {},
     "output_type": "execute_result"
    }
   ],
   "source": [
    "df.sort_values('Rupa (Virupa)')"
   ]
  },
  {
   "cell_type": "code",
   "execution_count": 15,
   "id": "b5616820-2d37-445c-9469-e1689fa651e2",
   "metadata": {},
   "outputs": [],
   "source": [
    "from jhora.horoscope.chart.strength import _dig_bala"
   ]
  },
  {
   "cell_type": "code",
   "execution_count": 17,
   "id": "a363fc9d-0422-435d-a335-c38e115b26f0",
   "metadata": {},
   "outputs": [
    {
     "name": "stdout",
     "output_type": "stream",
     "text": [
      "['Sun', 'Moon', 'Mars', 'Mercury', 'Jupiter', 'Venus', 'Saturn']\n"
     ]
    }
   ],
   "source": [
    "print(PLANETS)"
   ]
  },
  {
   "cell_type": "code",
   "execution_count": 18,
   "id": "4a7bd572-2959-4b8b-ac08-6693bc9a96ad",
   "metadata": {},
   "outputs": [
    {
     "name": "stdout",
     "output_type": "stream",
     "text": [
      "Sun      → 70.48 shastiamsa\n",
      "Moon     → 30.32 shastiamsa\n",
      "Mars     → 93.34 shastiamsa\n",
      "Mercury  → 43.54 shastiamsa\n",
      "Jupiter  → 58.99 shastiamsa\n",
      "Venus    → 5.12 shastiamsa\n",
      "Saturn   → 32.18 shastiamsa\n"
     ]
    }
   ],
   "source": [
    "# 3. Расчёт Dig Bala\n",
    "dig_bala = _dig_bala(jd, place, ayanamsa_mode=\"LAHIRI\")\n",
    "\n",
    "# 4. Вывод\n",
    "for i, bala in enumerate(dig_bala):\n",
    "    print(f\"{PLANETS[i]:8} → {bala:.2f} shastiamsa\")"
   ]
  }
 ],
 "metadata": {
  "kernelspec": {
   "display_name": "Python 3 (ipykernel)",
   "language": "python",
   "name": "python3"
  },
  "language_info": {
   "codemirror_mode": {
    "name": "ipython",
    "version": 3
   },
   "file_extension": ".py",
   "mimetype": "text/x-python",
   "name": "python",
   "nbconvert_exporter": "python",
   "pygments_lexer": "ipython3",
   "version": "3.12.2"
  }
 },
 "nbformat": 4,
 "nbformat_minor": 5
}
