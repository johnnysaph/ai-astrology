{
 "cells": [
  {
   "cell_type": "code",
   "execution_count": 2,
   "id": "11579e1d-1741-4a12-a454-c5f592ad79ef",
   "metadata": {},
   "outputs": [
    {
     "name": "stdout",
     "output_type": "stream",
     "text": [
      "UTC offset: 3.0\n"
     ]
    }
   ],
   "source": [
    "import requests\n",
    "\n",
    "API_KEY = \"TZBRMOGUBS9J\"\n",
    "\n",
    "# Параметры запроса\n",
    "params = {\n",
    "    \"key\": API_KEY,\n",
    "    \"format\": \"json\",\n",
    "    \"by\": \"position\",\n",
    "    \"lat\": 55.40,\n",
    "    \"lng\": 37.16,\n",
    "    \"time\": \"24.12.1991 19:50:00\"  # локальное время\n",
    "}\n",
    "\n",
    "url = \"http://api.timezonedb.com/v2.1/get-time-zone\"\n",
    "response = requests.get(url, params=params)\n",
    "\n",
    "data = response.json()\n",
    "\n",
    "# Выводим UTC offset в часах\n",
    "if data.get(\"status\") == \"OK\":\n",
    "    offset_seconds = data[\"gmtOffset\"]\n",
    "    offset_hours = offset_seconds / 3600\n",
    "    print(\"UTC offset:\", offset_hours)\n",
    "else:\n",
    "    print(\"Ошибка:\", data.get(\"message\"))"
   ]
  },
  {
   "cell_type": "code",
   "execution_count": 3,
   "id": "6dddc523-7b06-4d0a-b48b-4fa30b4fdcc7",
   "metadata": {},
   "outputs": [
    {
     "name": "stdout",
     "output_type": "stream",
     "text": [
      "3.12.2 (tags/v3.12.2:6abddd9, Feb  6 2024, 21:26:36) [MSC v.1937 64 bit (AMD64)]\n"
     ]
    }
   ],
   "source": [
    "import sys\n",
    "print(sys.version)"
   ]
  }
 ],
 "metadata": {
  "kernelspec": {
   "display_name": "Python 3 (ipykernel)",
   "language": "python",
   "name": "python3"
  },
  "language_info": {
   "codemirror_mode": {
    "name": "ipython",
    "version": 3
   },
   "file_extension": ".py",
   "mimetype": "text/x-python",
   "name": "python",
   "nbconvert_exporter": "python",
   "pygments_lexer": "ipython3",
   "version": "3.12.2"
  }
 },
 "nbformat": 4,
 "nbformat_minor": 5
}
