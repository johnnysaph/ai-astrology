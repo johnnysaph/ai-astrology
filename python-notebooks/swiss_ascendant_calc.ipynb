{
 "cells": [
  {
   "cell_type": "code",
   "execution_count": 1,
   "id": "1f98c75a-5356-4280-856f-58cf662fb18b",
   "metadata": {},
   "outputs": [],
   "source": [
    "import swisseph as swe\n",
    "\n",
    "def get_ascendant(julian_day, latitude, longitude):\n",
    "    # Установим сидерический зодиак Лахири\n",
    "    swe.set_sid_mode(swe.SIDM_LAHIRI)\n",
    "\n",
    "    # Флаг сидерического расчёта\n",
    "    flags = swe.FLG_SIDEREAL\n",
    "\n",
    "    # Расчёт домов и асцендента (Placidus как по умолчанию)\n",
    "    cusps, ascmc = swe.houses_ex(julian_day, latitude, longitude, b'A', flags)\n",
    "\n",
    "    asc_deg = ascmc[0]  # Асцендент (AC)\n",
    "    return asc_deg\n",
    "\n",
    "def format_degree_to_sign(degree):\n",
    "    signs = [\n",
    "        'Aries', 'Taurus', 'Gemini', 'Cancer', 'Leo', 'Virgo',\n",
    "        'Libra', 'Scorpio', 'Sagittarius', 'Capricorn', 'Aquarius', 'Pisces'\n",
    "    ]\n",
    "    sign_index = int(degree // 30)\n",
    "    sign = signs[sign_index]\n",
    "    deg_in_sign = degree % 30\n",
    "    deg = int(deg_in_sign)\n",
    "    minutes = int((deg_in_sign - deg) * 60)\n",
    "    return f\"{sign} : {deg}° {minutes}'\""
   ]
  },
  {
   "cell_type": "code",
   "execution_count": 2,
   "id": "96881ab5-980c-4ed6-ba76-e8333a4b524f",
   "metadata": {},
   "outputs": [],
   "source": [
    "#dir(swe)"
   ]
  },
  {
   "cell_type": "code",
   "execution_count": 24,
   "id": "19d71122-254c-4863-ba39-9006742d2711",
   "metadata": {},
   "outputs": [],
   "source": [
    "path_to_ephe = 'C:\\\\Users\\\\Ivan\\\\ai_astrology\\\\ephe'\n",
    "# set path to ephe files\n",
    "swe.set_ephe_path(path_to_ephe)\n",
    "# set vedic horo mode\n",
    "swe.set_sid_mode(swe.SIDM_SS_CITRA)\n",
    "jd = swe.julday(1987, 1, 20)"
   ]
  },
  {
   "cell_type": "code",
   "execution_count": 25,
   "id": "22b5d399-c256-4c52-a8fc-f0899131e9d7",
   "metadata": {},
   "outputs": [
    {
     "name": "stdout",
     "output_type": "stream",
     "text": [
      "(2, 22.823974095338954)\n"
     ]
    }
   ],
   "source": [
    "#swe.set_sid_mode(swe.SIDM_LAHIRI)\n",
    "aya = swe.get_ayanamsa_ex(jd, flags=swe.FLG_SWIEPH)\n",
    "print(aya)"
   ]
  },
  {
   "cell_type": "code",
   "execution_count": 19,
   "id": "ec47956e-bdec-44fc-8fa5-ae8f9d5b1863",
   "metadata": {},
   "outputs": [],
   "source": [
    "#help(swe)"
   ]
  },
  {
   "cell_type": "code",
   "execution_count": 3,
   "id": "5bbed72b-8a34-4a74-a3e2-f891612820d3",
   "metadata": {},
   "outputs": [],
   "source": [
    "# user data\n",
    "city = 'Snezhinsk'\n",
    "country = 'Russia'\n",
    "birth_date = \"20.01.1987\"\n",
    "birth_time = \"10:53\"\n",
    "latitude, longitude = 56.05, 60.44"
   ]
  },
  {
   "cell_type": "code",
   "execution_count": null,
   "id": "23f99304-ca6b-4f59-b335-4e44401c5814",
   "metadata": {},
   "outputs": [],
   "source": []
  }
 ],
 "metadata": {
  "kernelspec": {
   "display_name": "Python 3 (ipykernel)",
   "language": "python",
   "name": "python3"
  },
  "language_info": {
   "codemirror_mode": {
    "name": "ipython",
    "version": 3
   },
   "file_extension": ".py",
   "mimetype": "text/x-python",
   "name": "python",
   "nbconvert_exporter": "python",
   "pygments_lexer": "ipython3",
   "version": "3.12.2"
  }
 },
 "nbformat": 4,
 "nbformat_minor": 5
}
