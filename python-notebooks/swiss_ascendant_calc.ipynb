{
 "cells": [
  {
   "cell_type": "code",
   "execution_count": 1,
   "id": "1f98c75a-5356-4280-856f-58cf662fb18b",
   "metadata": {},
   "outputs": [],
   "source": [
    "import swisseph as swe\n",
    "\n",
    "def get_ascendant(julian_day, latitude, longitude):\n",
    "    # Установим сидерический зодиак Лахири\n",
    "    swe.set_sid_mode(swe.SIDM_LAHIRI)\n",
    "\n",
    "    # Флаг сидерического расчёта\n",
    "    flags = swe.FLG_SIDEREAL\n",
    "\n",
    "    # Расчёт домов и асцендента (Placidus как по умолчанию)\n",
    "    cusps, ascmc = swe.houses_ex(julian_day, latitude, longitude, b'A', flags)\n",
    "\n",
    "    asc_deg = ascmc[0]  # Асцендент (AC)\n",
    "    return asc_deg\n",
    "\n",
    "def format_degree_to_sign(degree):\n",
    "    signs = [\n",
    "        'Aries', 'Taurus', 'Gemini', 'Cancer', 'Leo', 'Virgo',\n",
    "        'Libra', 'Scorpio', 'Sagittarius', 'Capricorn', 'Aquarius', 'Pisces'\n",
    "    ]\n",
    "    sign_index = int(degree // 30)\n",
    "    sign = signs[sign_index]\n",
    "    deg_in_sign = degree % 30\n",
    "    deg = int(deg_in_sign)\n",
    "    minutes = int((deg_in_sign - deg) * 60)\n",
    "    return f\"{sign} : {deg}° {minutes}'\""
   ]
  },
  {
   "cell_type": "code",
   "execution_count": 3,
   "id": "bd523388-69fb-4cea-8ca4-fe5ba19faf1c",
   "metadata": {},
   "outputs": [
    {
     "name": "stdout",
     "output_type": "stream",
     "text": [
      "C:\\Users\\Ivan\\AppData\\Local\\Programs\\Python\\Python312\\Lib\\site-packages\\swisseph.cp312-win_amd64.pyd\n"
     ]
    }
   ],
   "source": [
    "import swisseph\n",
    "print(swisseph.__file__)"
   ]
  },
  {
   "cell_type": "code",
   "execution_count": 1,
   "id": "a0ec4a44-207c-4f8b-8878-0e7435d56314",
   "metadata": {},
   "outputs": [
    {
     "name": "stdout",
     "output_type": "stream",
     "text": [
      "hora C:\\Users added to system path ['C:\\\\Users\\\\Ivan\\\\AppData\\\\Local\\\\Programs\\\\Python\\\\Python312\\\\python312.zip', 'C:\\\\Users\\\\Ivan\\\\AppData\\\\Local\\\\Programs\\\\Python\\\\Python312\\\\DLLs', 'C:\\\\Users\\\\Ivan\\\\AppData\\\\Local\\\\Programs\\\\Python\\\\Python312\\\\Lib', 'C:\\\\Users\\\\Ivan\\\\AppData\\\\Local\\\\Programs\\\\Python\\\\Python312', '', 'C:\\\\Users\\\\Ivan\\\\AppData\\\\Local\\\\Programs\\\\Python\\\\Python312\\\\Lib\\\\site-packages', 'C:\\\\Users\\\\Ivan\\\\AppData\\\\Local\\\\Programs\\\\Python\\\\Python312\\\\Lib\\\\site-packages\\\\win32', 'C:\\\\Users\\\\Ivan\\\\AppData\\\\Local\\\\Programs\\\\Python\\\\Python312\\\\Lib\\\\site-packages\\\\win32\\\\lib', 'C:\\\\Users\\\\Ivan\\\\AppData\\\\Local\\\\Programs\\\\Python\\\\Python312\\\\Lib\\\\site-packages\\\\Pythonwin', 'C:\\\\Users']\n"
     ]
    }
   ],
   "source": [
    "import jhora"
   ]
  }
 ],
 "metadata": {
  "kernelspec": {
   "display_name": "Python 3 (ipykernel)",
   "language": "python",
   "name": "python3"
  },
  "language_info": {
   "codemirror_mode": {
    "name": "ipython",
    "version": 3
   },
   "file_extension": ".py",
   "mimetype": "text/x-python",
   "name": "python",
   "nbconvert_exporter": "python",
   "pygments_lexer": "ipython3",
   "version": "3.12.2"
  }
 },
 "nbformat": 4,
 "nbformat_minor": 5
}
