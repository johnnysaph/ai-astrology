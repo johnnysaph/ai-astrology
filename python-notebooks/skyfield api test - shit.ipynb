{
 "cells": [
  {
   "cell_type": "code",
   "execution_count": 1,
   "id": "fd41b853-fabb-44f5-bb27-5c46e265850f",
   "metadata": {},
   "outputs": [],
   "source": [
    "from skyfield.api import load, Topos\n",
    "from math import radians, degrees, atan2, sin, cos, floor\n",
    "\n",
    "def format_deg(deg_float):\n",
    "    deg = floor(deg_float % 30)\n",
    "    minutes = floor((deg_float % 1) * 60)\n",
    "    seconds = floor((((deg_float % 1) * 60) % 1) * 60)\n",
    "    sign_index = int(deg_float // 30)\n",
    "    signs = [\n",
    "        \"Овен\", \"Телец\", \"Близнецы\", \"Рак\", \"Лев\", \"Дева\",\n",
    "        \"Весы\", \"Скорпион\", \"Стрелец\", \"Козерог\", \"Водолей\", \"Рыбы\"\n",
    "    ]\n",
    "    return f\"{deg:02d}°{minutes:02d}'{seconds:02d}'' {signs[sign_index]}\"\n",
    "\n",
    "def calculate_sidereal_ascendant_skyfield(year, month, day, hour, minute, latitude, longitude):\n",
    "    ts = load.timescale()\n",
    "    t = ts.utc(year, month, day, hour, minute)\n",
    "    \n",
    "    # 1. Звездное время (в градусах)\n",
    "    gmst_deg = t.gmst * 15  # в градусах\n",
    "    armc = (gmst_deg + longitude) % 360\n",
    "\n",
    "    # 2. Обликвити (наклон эклиптики)\n",
    "    epsilon = radians(23.4392911)  # можно заменить на расчётное значение\n",
    "\n",
    "    # 3. Расчёт тропического асцендента\n",
    "    armc_rad = radians(armc)\n",
    "    asc_rad = atan2(cos(epsilon) * sin(armc_rad), cos(armc_rad))\n",
    "    asc_deg = degrees(asc_rad) % 360\n",
    "\n",
    "    # 4. Аянсамша Lahiri (на твою дату, вручную)\n",
    "    ayanamsa = 23.6762\n",
    "\n",
    "    # 5. Сидерическая лагна\n",
    "    asc_sidereal = (asc_deg - ayanamsa) % 360\n",
    "\n",
    "    return asc_sidereal, format_deg(asc_sidereal)"
   ]
  },
  {
   "cell_type": "code",
   "execution_count": 2,
   "id": "334c38d7-3a3b-46cf-8364-fff7de99344e",
   "metadata": {},
   "outputs": [
    {
     "name": "stdout",
     "output_type": "stream",
     "text": [
      "Сидерическая лагна: 20°38'02'' Водолей\n"
     ]
    }
   ],
   "source": [
    "deg, formatted = calculate_sidereal_ascendant_skyfield(\n",
    "    1987, 1, 20, 10, 53, 56.05, 60.44\n",
    ")\n",
    "print(\"Сидерическая лагна:\", formatted)"
   ]
  }
 ],
 "metadata": {
  "kernelspec": {
   "display_name": "Python 3 (ipykernel)",
   "language": "python",
   "name": "python3"
  },
  "language_info": {
   "codemirror_mode": {
    "name": "ipython",
    "version": 3
   },
   "file_extension": ".py",
   "mimetype": "text/x-python",
   "name": "python",
   "nbconvert_exporter": "python",
   "pygments_lexer": "ipython3",
   "version": "3.12.2"
  }
 },
 "nbformat": 4,
 "nbformat_minor": 5
}
