{
 "cells": [
  {
   "cell_type": "code",
   "execution_count": 1,
   "id": "9a4f4946-d4cf-4cff-947f-e9e2d23b31ff",
   "metadata": {},
   "outputs": [
    {
     "name": "stdout",
     "output_type": "stream",
     "text": [
      "VedAstro - Made & Funded by Users - https://vedastro.org/Donate\n",
      "\n"
     ]
    }
   ],
   "source": [
    "from vedastro import * \n",
    "\n",
    "#PART 1 : PREPARE NEEDED DATA\n",
    "#-----------------------------------\n",
    "\n",
    "# set birth location\n",
    "#geolocation = GeoLocation(\"Snezhinsk, Russia\", 56.05, 60.44)\n",
    "\n",
    "# group all birth time data together (day/month/year)\n",
    "#birth_time = Time(\"10:53 20/01/1987 +05:00\", geolocation)\n",
    "\n",
    "#PART 2 : CALCULATE ALL DATA\n",
    "#-----------------------------------\n",
    "\n",
    "#PLANETS\n",
    "#allPlanetDataList = Calculate.AllPlanetData(PlanetName.Sun, birth_time)\n",
    "#print(json.dumps(allPlanetDataList, indent=4))\n",
    "\n",
    "#HOUSES\n",
    "#allHouseDataList = Calculate.AllHouseData(HouseName.House1, birth_time)\n",
    "#print(json.dumps(allHouseDataList, indent=4))\n",
    "\n",
    "#ZODIAC SIGNS\n",
    "#allZodiacDataList = Calculate.AllZodiacSignData(ZodiacName.Gemini, birth_time)\n",
    "#print(json.dumps(allZodiacDataList, indent=4))\n",
    "\n",
    "# makes request to vedicAstro API\n",
    "def get_shad_bala(vedicAstro_data):\n",
    "    shad_bala = Calculate.AllPlanetStrength(vedicAstro_data)\n",
    "    # Разбиваем строку и собираем пары\n",
    "    pairs = shad_bala.split(\"), \")\n",
    "    result = {}\n",
    "\n",
    "    for pair in pairs:\n",
    "        pair = pair.strip(\"()\")  # удаляем скобки\n",
    "        value_str, planet_en = pair.split(\", \")\n",
    "        value = float(value_str)\n",
    "        planet_ru = planetName_eng_to_ru.get(planet_en, planet_en)  # переводим на русский\n",
    "        if planet_en in planet_to_power:\n",
    "            planet_power = planet_to_power[planet_en]\n",
    "            result[planet_ru] = int(value / planet_power * 100)\n",
    "    return result\n",
    "\n",
    "planet_to_power = {\n",
    "    \"Sun\": 390,\n",
    "    \"Moon\": 360,\n",
    "    \"Mars\": 300,\n",
    "    \"Mercury\": 420,\n",
    "    \"Jupiter\": 390,\n",
    "    \"Venus\": 330,\n",
    "    \"Saturn\": 300\n",
    "}\n",
    "\n",
    "planetName_eng_to_ru = {\n",
    "    \"Sun\": \"Солнце\",\n",
    "    \"Moon\": \"Луна\",\n",
    "    \"Mars\": \"Марс\",\n",
    "    \"Mercury\": \"Меркурий\",\n",
    "    \"Jupiter\": \"Юпитер\",\n",
    "    \"Venus\": \"Венера\",\n",
    "    \"Saturn\": \"Сатурн\",\n",
    "    \"Rahu\": \"Раху\",\n",
    "    \"Ketu\": \"Кету\"\n",
    "}"
   ]
  },
  {
   "cell_type": "code",
   "execution_count": 30,
   "id": "7c05bba5-4760-4e20-874e-4390bace2b19",
   "metadata": {},
   "outputs": [],
   "source": [
    "# set birth location\n",
    "geolocation = GeoLocation(\"Snezhinsk, Russia\", 56.05, 60.44)\n",
    "\n",
    "# group all birth time data together (day/month/year)\n",
    "birth_time = Time(\"10:53 20/01/1987 +05:00\", geolocation)"
   ]
  },
  {
   "cell_type": "code",
   "execution_count": 31,
   "id": "0c717dfa-934f-4904-a5d9-fd88d070aa28",
   "metadata": {},
   "outputs": [],
   "source": [
    "houses = Calculate.AllHouseRasiSigns(birth_time)"
   ]
  },
  {
   "cell_type": "code",
   "execution_count": 32,
   "id": "9b42bec1-9050-4e12-964f-2825759f95bc",
   "metadata": {},
   "outputs": [
    {
     "name": "stdout",
     "output_type": "stream",
     "text": [
      "[{'House': 'House1', 'AllHouseRasiSigns': \"Pisces : 1° 50' 18\"}, {'House': 'House2', 'AllHouseRasiSigns': \"Aries : 1° 50' 18\"}, {'House': 'House3', 'AllHouseRasiSigns': \"Taurus : 1° 50' 18\"}, {'House': 'House4', 'AllHouseRasiSigns': \"Gemini : 1° 50' 18\"}, {'House': 'House5', 'AllHouseRasiSigns': \"Cancer : 1° 50' 18\"}, {'House': 'House6', 'AllHouseRasiSigns': \"Leo : 1° 50' 18\"}, {'House': 'House7', 'AllHouseRasiSigns': \"Virgo : 1° 50' 18\"}, {'House': 'House8', 'AllHouseRasiSigns': \"Libra : 1° 50' 18\"}, {'House': 'House9', 'AllHouseRasiSigns': \"Scorpio : 1° 50' 18\"}, {'House': 'House10', 'AllHouseRasiSigns': \"Sagittarius : 1° 50' 18\"}, {'House': 'House11', 'AllHouseRasiSigns': \"Capricorn : 1° 50' 18\"}, {'House': 'House12', 'AllHouseRasiSigns': \"Aquarius : 1° 50' 18\"}]\n"
     ]
    }
   ],
   "source": [
    "print(houses)"
   ]
  },
  {
   "cell_type": "code",
   "execution_count": 28,
   "id": "c4b12270-6fca-4126-beaf-5c18d4f01552",
   "metadata": {},
   "outputs": [],
   "source": [
    "shad_bala = get_shad_bala(birth_time)"
   ]
  },
  {
   "cell_type": "code",
   "execution_count": 29,
   "id": "86790d5e-268f-49ab-9f3d-4522c82176de",
   "metadata": {},
   "outputs": [
    {
     "data": {
      "text/plain": [
       "{'Солнце': 127,\n",
       " 'Луна': 104,\n",
       " 'Марс': 144,\n",
       " 'Меркурий': 66,\n",
       " 'Юпитер': 113,\n",
       " 'Венера': 134,\n",
       " 'Сатурн': 103}"
      ]
     },
     "execution_count": 29,
     "metadata": {},
     "output_type": "execute_result"
    }
   ],
   "source": [
    "shad_bala"
   ]
  },
  {
   "cell_type": "code",
   "execution_count": 23,
   "id": "030158c8-b8df-4003-b784-d2d9a8fde4a2",
   "metadata": {},
   "outputs": [],
   "source": [
    "d_sb = copy(shad_bala)"
   ]
  },
  {
   "cell_type": "code",
   "execution_count": 24,
   "id": "b2227bc6-5ad9-4002-b43a-65f6daa9adfc",
   "metadata": {},
   "outputs": [
    {
     "data": {
      "text/plain": [
       "{'Солнце': 81,\n",
       " 'Луна': 145,\n",
       " 'Марс': 115,\n",
       " 'Меркурий': 105,\n",
       " 'Юпитер': 118,\n",
       " 'Венера': 137,\n",
       " 'Сатурн': 145}"
      ]
     },
     "execution_count": 24,
     "metadata": {},
     "output_type": "execute_result"
    }
   ],
   "source": [
    "d_sb"
   ]
  },
  {
   "cell_type": "code",
   "execution_count": 17,
   "id": "552bc756-e09b-4892-9c46-902432cb8865",
   "metadata": {},
   "outputs": [
    {
     "data": {
      "text/plain": [
       "{'Солнце': 88,\n",
       " 'Луна': 87,\n",
       " 'Марс': 110,\n",
       " 'Меркурий': 115,\n",
       " 'Юпитер': 93,\n",
       " 'Венера': 128,\n",
       " 'Сатурн': 102}"
      ]
     },
     "execution_count": 17,
     "metadata": {},
     "output_type": "execute_result"
    }
   ],
   "source": [
    "vlad_sb"
   ]
  },
  {
   "cell_type": "code",
   "execution_count": 10,
   "id": "47697f4e-5080-4aa0-9942-7d3f8cbdfae0",
   "metadata": {},
   "outputs": [
    {
     "data": {
      "text/plain": [
       "{'Солнце': 111,\n",
       " 'Луна': 83,\n",
       " 'Марс': 122,\n",
       " 'Меркурий': 128,\n",
       " 'Юпитер': 119,\n",
       " 'Венера': 107,\n",
       " 'Сатурн': 128}"
      ]
     },
     "execution_count": 10,
     "metadata": {},
     "output_type": "execute_result"
    }
   ],
   "source": [
    "my_sb"
   ]
  }
 ],
 "metadata": {
  "kernelspec": {
   "display_name": "Python 3 (ipykernel)",
   "language": "python",
   "name": "python3"
  },
  "language_info": {
   "codemirror_mode": {
    "name": "ipython",
    "version": 3
   },
   "file_extension": ".py",
   "mimetype": "text/x-python",
   "name": "python",
   "nbconvert_exporter": "python",
   "pygments_lexer": "ipython3",
   "version": "3.12.2"
  }
 },
 "nbformat": 4,
 "nbformat_minor": 5
}
