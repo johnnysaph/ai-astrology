{
 "cells": [
  {
   "cell_type": "code",
   "execution_count": 2,
   "id": "834b1a55-efce-490b-98cd-e72ceb4868d3",
   "metadata": {},
   "outputs": [],
   "source": [
    "def estimate_monthly_cost(\n",
    "    price_per_million_tokens: float,\n",
    "    messages_per_day: int,\n",
    "    avg_question_chars: int,\n",
    "    avg_answer_chars: int,\n",
    "    char_to_token_ratio: float = 0.5,\n",
    "    days_per_month: int = 30\n",
    ") -> float:\n",
    "    \"\"\"\n",
    "    Оценивает стоимость в месяц на одного пользователя.\n",
    "\n",
    "    :param price_per_million_tokens: цена за 1M токенов (например, 1.2)\n",
    "    :param messages_per_day: сколько сообщений в день отправляет пользователь\n",
    "    :param avg_question_chars: средняя длина вопроса (в символах)\n",
    "    :param avg_answer_chars: средняя длина ответа (в символах)\n",
    "    :param char_to_token_ratio: коэффициент перевода символов в токены (по умолчанию 0.5)\n",
    "    :param days_per_month: количество дней в месяце (по умолчанию 30)\n",
    "    :return: стоимость в USD\n",
    "    \"\"\"\n",
    "    tokens_per_question = avg_question_chars * char_to_token_ratio\n",
    "    tokens_per_answer = avg_answer_chars * char_to_token_ratio\n",
    "    total_tokens_per_message = tokens_per_question + tokens_per_answer\n",
    "    #print(total_tokens_per_message)\n",
    "\n",
    "    total_tokens_per_month = total_tokens_per_message * messages_per_day * days_per_month\n",
    "    #print(total_tokens_per_month)\n",
    "    cost = (total_tokens_per_month / 1_000_000) * price_per_million_tokens\n",
    "\n",
    "    return round(cost, 4)"
   ]
  },
  {
   "cell_type": "code",
   "execution_count": 8,
   "id": "9f26c9bb-47f7-4aed-bc7d-a78cf19bdffe",
   "metadata": {},
   "outputs": [
    {
     "name": "stdout",
     "output_type": "stream",
     "text": [
      "0.09\n"
     ]
    }
   ],
   "source": [
    "price = estimate_monthly_cost(1.2, 30, 2000, 3000, char_to_token_ratio=0.5, days_per_month=1)\n",
    "print(price)"
   ]
  }
 ],
 "metadata": {
  "kernelspec": {
   "display_name": "Python 3 (ipykernel)",
   "language": "python",
   "name": "python3"
  },
  "language_info": {
   "codemirror_mode": {
    "name": "ipython",
    "version": 3
   },
   "file_extension": ".py",
   "mimetype": "text/x-python",
   "name": "python",
   "nbconvert_exporter": "python",
   "pygments_lexer": "ipython3",
   "version": "3.12.2"
  }
 },
 "nbformat": 4,
 "nbformat_minor": 5
}
