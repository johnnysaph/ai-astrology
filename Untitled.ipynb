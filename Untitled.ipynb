{
 "cells": [
  {
   "cell_type": "code",
   "execution_count": 1,
   "id": "4c166d8f-464a-4b87-bd5b-2b70a7317557",
   "metadata": {},
   "outputs": [],
   "source": [
    "import os\n",
    "os.environ[\"PYTHONTZPATH\"] = r\"C:\\Users\\Ivan\\AppData\\Local\\Programs\\Python\\Python312\\Lib\\site-packages\\tzdata\\zoneinfo\"\n",
    "\n",
    "from zoneinfo import ZoneInfo\n",
    "from datetime import datetime\n",
    "import tzdata\n",
    "\n",
    "def get_utc_offset(dt: datetime, tz_name: str) -> str:\n",
    "    \"\"\"\n",
    "    Возвращает UTC offset в формате ±HH:MM\n",
    "    :param dt: локальное datetime (без tzinfo)\n",
    "    :param tz_name: имя таймзоны, например 'Europe/Moscow'\n",
    "    \"\"\"\n",
    "    tz = ZoneInfo(tz_name)\n",
    "    local_dt = dt.replace(tzinfo=tz)\n",
    "    offset = local_dt.utcoffset()\n",
    "    hours = int(offset.total_seconds() // 3600)\n",
    "    minutes = int((offset.total_seconds() % 3600) // 60)\n",
    "    return f\"{hours:+03d}:{abs(minutes):02d}\""
   ]
  },
  {
   "cell_type": "code",
   "execution_count": 2,
   "id": "d94f9b82-4da3-44dc-b5d3-867246fda025",
   "metadata": {},
   "outputs": [
    {
     "name": "stdout",
     "output_type": "stream",
     "text": [
      "+02:00\n"
     ]
    }
   ],
   "source": [
    "dt = datetime.strptime(\"24.12.1991 19:50:00\", \"%d.%m.%Y %H:%M:%S\")\n",
    "print(get_utc_offset(dt, \"Europe/Moscow\"))  # → +03:00 или +04:00 в зависимости от даты"
   ]
  },
  {
   "cell_type": "code",
   "execution_count": 18,
   "id": "6a1614ff-5a7f-44af-b60c-0df5b6e7d38d",
   "metadata": {},
   "outputs": [],
   "source": [
    "latitude = 45.35\n",
    "longitude = 28.83"
   ]
  },
  {
   "cell_type": "code",
   "execution_count": 19,
   "id": "57b533cf-c00b-4e28-88f0-ab705d42ffb3",
   "metadata": {},
   "outputs": [],
   "source": [
    "tz_name = tf.timezone_at(lat=latitude, lng=longitude)"
   ]
  },
  {
   "cell_type": "code",
   "execution_count": 20,
   "id": "fdeaafaa-17c7-40db-bbb5-5e69bd93643a",
   "metadata": {},
   "outputs": [
    {
     "name": "stdout",
     "output_type": "stream",
     "text": [
      "Europe/Kyiv\n"
     ]
    }
   ],
   "source": [
    "print(tz_name)"
   ]
  },
  {
   "cell_type": "code",
   "execution_count": 21,
   "id": "739bb2be-65bf-4a5c-ae5d-d395f59b088b",
   "metadata": {},
   "outputs": [
    {
     "name": "stdout",
     "output_type": "stream",
     "text": [
      "+03:00\n"
     ]
    }
   ],
   "source": [
    "dt = datetime.strptime(\"02.11.1985 06:00:00\", \"%d.%m.%Y %H:%M:%S\")\n",
    "print(get_utc_offset(dt, tz_name))"
   ]
  },
  {
   "cell_type": "code",
   "execution_count": 8,
   "id": "59695483-7b51-4206-9bb5-993ae14bbcf4",
   "metadata": {},
   "outputs": [],
   "source": [
    "from timezonefinder import TimezoneFinder"
   ]
  },
  {
   "cell_type": "code",
   "execution_count": 15,
   "id": "2e8fd8eb-8706-4704-8b62-947caf97376a",
   "metadata": {},
   "outputs": [],
   "source": [
    "latitude = 45.21\n",
    "longitude = 28.50"
   ]
  },
  {
   "cell_type": "code",
   "execution_count": 16,
   "id": "cceaef9c-68f6-418a-ae1b-cd85e1a3885e",
   "metadata": {},
   "outputs": [],
   "source": [
    "tf = TimezoneFinder()\n",
    "tz_name = tf.timezone_at(lat=latitude, lng=longitude)"
   ]
  },
  {
   "cell_type": "code",
   "execution_count": 17,
   "id": "d7080127-822a-4fc0-b644-058f6e6273d0",
   "metadata": {},
   "outputs": [
    {
     "data": {
      "text/plain": [
       "'Europe/Bucharest'"
      ]
     },
     "execution_count": 17,
     "metadata": {},
     "output_type": "execute_result"
    }
   ],
   "source": [
    "tz_name"
   ]
  }
 ],
 "metadata": {
  "kernelspec": {
   "display_name": "Python 3 (ipykernel)",
   "language": "python",
   "name": "python3"
  },
  "language_info": {
   "codemirror_mode": {
    "name": "ipython",
    "version": 3
   },
   "file_extension": ".py",
   "mimetype": "text/x-python",
   "name": "python",
   "nbconvert_exporter": "python",
   "pygments_lexer": "ipython3",
   "version": "3.12.2"
  }
 },
 "nbformat": 4,
 "nbformat_minor": 5
}
